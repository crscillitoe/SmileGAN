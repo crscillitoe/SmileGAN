{
 "cells": [
  {
   "cell_type": "code",
   "execution_count": 2,
   "source": [
    "from fastai.vision.all import *\r\n",
    "from fastai.vision.gan import *\r\n",
    "from fastai.metrics import error_rate, accuracy\r\n",
    "\r\n",
    "data_path = Path(\"./Smiles/\")\r\n",
    "size = 16"
   ],
   "outputs": [],
   "metadata": {}
  },
  {
   "cell_type": "code",
   "execution_count": null,
   "source": [
    "dblock = DataBlock(blocks = (TransformBlock, ImageBlock),\r\n",
    "                   get_x = generate_noise,\r\n",
    "                   get_items = get_image_files,\r\n",
    "                   splitter = IndexSplitter([]),\r\n",
    "                   batch_tfms = Normalize.from_stats(torch.tensor([0.5,0.5,0.5]), torch.tensor([0.5,0.5,0.5])))\r\n",
    "\r\n",
    "data = dblock.dataloaders(data_path, path=data_path, bs=10)\r\n",
    "data.show_batch(max_n=16)"
   ],
   "outputs": [],
   "metadata": {}
  },
  {
   "cell_type": "code",
   "execution_count": 4,
   "source": [
    "generator = basic_generator(size, n_channels=3, n_extra_layers=1)\r\n",
    "critic    = basic_critic   (size, n_channels=3, n_extra_layers=1, act_cls=partial(nn.LeakyReLU, negative_slope=0.2))\r\n",
    "\r\n",
    "gan = GANLearner.wgan(data, generator, critic, opt_func = RMSProp)"
   ],
   "outputs": [],
   "metadata": {}
  },
  {
   "cell_type": "code",
   "execution_count": 7,
   "source": [
    "gan.load(\"smilegan\")"
   ],
   "outputs": [
    {
     "output_type": "execute_result",
     "data": {
      "text/plain": [
       "<fastai.vision.gan.GANLearner at 0x24ed31c0dc0>"
      ]
     },
     "metadata": {},
     "execution_count": 7
    }
   ],
   "metadata": {}
  },
  {
   "cell_type": "code",
   "execution_count": 26,
   "source": [
    "gan.show_results(max_n=1, ds_idx=0, show=True)"
   ],
   "outputs": [
    {
     "output_type": "display_data",
     "data": {
      "text/html": [],
      "text/plain": [
       "<IPython.core.display.HTML object>"
      ]
     },
     "metadata": {}
    },
    {
     "output_type": "display_data",
     "data": {
      "image/png": "[encoded data removed]",
      "text/plain": [
       "<Figure size 216x216 with 1 Axes>"
      ]
     },
     "metadata": {
      "needs_background": "light"
     }
    }
   ],
   "metadata": {}
  }
 ],
 "metadata": {
  "orig_nbformat": 4,
  "language_info": {
   "name": "python",
   "version": "3.9.5",
   "mimetype": "text/x-python",
   "codemirror_mode": {
    "name": "ipython",
    "version": 3
   },
   "pygments_lexer": "ipython3",
   "nbconvert_exporter": "python",
   "file_extension": ".py"
  },
  "kernelspec": {
   "name": "python3",
   "display_name": "Python 3.9.5 64-bit ('base': conda)"
  },
  "interpreter": {
   "hash": "c31453112a4a7c3aed1fc175d84c0f103d6eafc5440480c570fce5ccd1737f8d"
  }
 },
 "nbformat": 4,
 "nbformat_minor": 2
}